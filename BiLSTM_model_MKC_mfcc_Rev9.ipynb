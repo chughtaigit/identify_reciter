{
 "cells": [
  {
   "cell_type": "markdown",
   "metadata": {},
   "source": [
    "# MKC: Web article\n",
    "https://towardsdatascience.com/using-cnns-and-rnns-for-music-genre-recognition-2435fb2ed6af\n",
    "\n",
    "https://machinelearningmastery.com/develop-bidirectional-lstm-sequence-classification-python-keras/"
   ]
  },
  {
   "cell_type": "code",
   "execution_count": 27,
   "metadata": {},
   "outputs": [],
   "source": [
    "import os\n",
    "\n",
    "data_dir       = 'datamfcc'\n",
    "audio_data_dir = os.path.join(os.getcwd(), data_dir, \"audio\")"
   ]
  },
  {
   "cell_type": "code",
   "execution_count": 28,
   "metadata": {},
   "outputs": [],
   "source": [
    "import numpy as np\n",
    "import os\n",
    "from os.path import isfile\n",
    "import keras\n",
    "from keras.models import Sequential, Model\n",
    "from keras.layers import Input, Dense, TimeDistributed, LSTM, Dropout, Activation\n",
    "from keras.layers import Conv1D, MaxPooling1D, Flatten, Conv2D, BatchNormalization, Lambda\n",
    "from keras.layers.advanced_activations import ELU\n",
    "from keras.callbacks import ModelCheckpoint, TensorBoard, ReduceLROnPlateau\n",
    "from keras import backend\n",
    "from keras.utils import np_utils\n",
    "from keras.optimizers import Adam, RMSprop, Adadelta\n",
    "\n",
    "from keras import regularizers\n",
    "import time\n",
    "\n",
    "import librosa\n",
    "import librosa.display\n",
    "import matplotlib.pyplot as plt\n",
    "%matplotlib inline"
   ]
  },
  {
   "cell_type": "markdown",
   "metadata": {},
   "source": [
    "### Load training and Validation arrays"
   ]
  },
  {
   "cell_type": "code",
   "execution_count": 29,
   "metadata": {},
   "outputs": [
    {
     "name": "stdout",
     "output_type": "stream",
     "text": [
      "{0: 'AbdulBasit', 1: 'AbdurrahmaanAs-Sudais', 2: 'Ajami', 3: 'Alafasy', 4: 'FaresAbbad'}\n"
     ]
    }
   ],
   "source": [
    "dict_reciter_to_label =  {'AbdulBasit': 0, 'AbdurrahmaanAs-Sudais': 1, \n",
    "                          'Ajami': 2, 'Alafasy': 3, 'FaresAbbad': 4}\n",
    "dict_genres = dict_reciter_to_label\n",
    "\n",
    "reverse_map = {v: k for k, v in dict_genres.items()}\n",
    "print(reverse_map)"
   ]
  },
  {
   "cell_type": "code",
   "execution_count": 30,
   "metadata": {},
   "outputs": [
    {
     "name": "stdout",
     "output_type": "stream",
     "text": [
      "['arr_0', 'arr_1']\n",
      "(4195, 646, 13) (4195, 5)\n"
     ]
    }
   ],
   "source": [
    "npzfile = np.load(os.path.join(data_dir, 'shuffled_train.npz'))\n",
    "print(npzfile.files)\n",
    "X_train = npzfile['arr_0']\n",
    "y_train = npzfile['arr_1']\n",
    "print(X_train.shape, y_train.shape)"
   ]
  },
  {
   "cell_type": "code",
   "execution_count": 31,
   "metadata": {},
   "outputs": [
    {
     "name": "stdout",
     "output_type": "stream",
     "text": [
      "['arr_0', 'arr_1']\n",
      "(1405, 646, 13) (1405, 5)\n"
     ]
    }
   ],
   "source": [
    "npzfile = np.load(os.path.join(data_dir, 'shuffled_valid.npz'))\n",
    "print(npzfile.files)\n",
    "X_valid = npzfile['arr_0']\n",
    "y_valid = npzfile['arr_1']\n",
    "print(X_valid.shape, y_valid.shape)"
   ]
  },
  {
   "cell_type": "code",
   "execution_count": 32,
   "metadata": {},
   "outputs": [
    {
     "data": {
      "text/html": [
       "<div>\n",
       "<style scoped>\n",
       "    .dataframe tbody tr th:only-of-type {\n",
       "        vertical-align: middle;\n",
       "    }\n",
       "\n",
       "    .dataframe tbody tr th {\n",
       "        vertical-align: top;\n",
       "    }\n",
       "\n",
       "    .dataframe thead th {\n",
       "        text-align: right;\n",
       "    }\n",
       "</style>\n",
       "<table border=\"1\" class=\"dataframe\">\n",
       "  <thead>\n",
       "    <tr style=\"text-align: right;\">\n",
       "      <th></th>\n",
       "      <th>0</th>\n",
       "      <th>1</th>\n",
       "      <th>2</th>\n",
       "      <th>3</th>\n",
       "      <th>4</th>\n",
       "    </tr>\n",
       "  </thead>\n",
       "  <tbody>\n",
       "    <tr>\n",
       "      <th>0</th>\n",
       "      <td>0.0</td>\n",
       "      <td>0.0</td>\n",
       "      <td>1.0</td>\n",
       "      <td>0.0</td>\n",
       "      <td>0.0</td>\n",
       "    </tr>\n",
       "    <tr>\n",
       "      <th>1</th>\n",
       "      <td>0.0</td>\n",
       "      <td>0.0</td>\n",
       "      <td>1.0</td>\n",
       "      <td>0.0</td>\n",
       "      <td>0.0</td>\n",
       "    </tr>\n",
       "    <tr>\n",
       "      <th>2</th>\n",
       "      <td>0.0</td>\n",
       "      <td>0.0</td>\n",
       "      <td>1.0</td>\n",
       "      <td>0.0</td>\n",
       "      <td>0.0</td>\n",
       "    </tr>\n",
       "    <tr>\n",
       "      <th>3</th>\n",
       "      <td>0.0</td>\n",
       "      <td>0.0</td>\n",
       "      <td>0.0</td>\n",
       "      <td>1.0</td>\n",
       "      <td>0.0</td>\n",
       "    </tr>\n",
       "    <tr>\n",
       "      <th>4</th>\n",
       "      <td>0.0</td>\n",
       "      <td>0.0</td>\n",
       "      <td>1.0</td>\n",
       "      <td>0.0</td>\n",
       "      <td>0.0</td>\n",
       "    </tr>\n",
       "  </tbody>\n",
       "</table>\n",
       "</div>"
      ],
      "text/plain": [
       "     0    1    2    3    4\n",
       "0  0.0  0.0  1.0  0.0  0.0\n",
       "1  0.0  0.0  1.0  0.0  0.0\n",
       "2  0.0  0.0  1.0  0.0  0.0\n",
       "3  0.0  0.0  0.0  1.0  0.0\n",
       "4  0.0  0.0  1.0  0.0  0.0"
      ]
     },
     "execution_count": 32,
     "metadata": {},
     "output_type": "execute_result"
    }
   ],
   "source": [
    "# MKC: TO understand why y_valiad & y_train are not coming out as (*, 8)\n",
    "import pandas as pd\n",
    "y_valid_pd = pd.DataFrame(y_valid)\n",
    "y_valid_pd.describe()\n",
    "y_valid_pd.head()\n"
   ]
  },
  {
   "cell_type": "markdown",
   "metadata": {},
   "source": [
    "### Check by plotting a Spectogram"
   ]
  },
  {
   "cell_type": "code",
   "execution_count": 33,
   "metadata": {},
   "outputs": [
    {
     "name": "stdout",
     "output_type": "stream",
     "text": [
      "Alafasy\n"
     ]
    },
    {
     "data": {
      "image/png": "[encoded data removed]",
      "text/plain": [
       "<Figure size 720x360 with 2 Axes>"
      ]
     },
     "metadata": {
      "needs_background": "light"
     },
     "output_type": "display_data"
    }
   ],
   "source": [
    "num = 4\n",
    "spectogram = X_train[num]\n",
    "genre = np.argmax(y_train[num])\n",
    "print(reverse_map[genre])\n",
    "plt.figure(figsize=(10, 5))\n",
    "librosa.display.specshow(spectogram.T, y_axis='mel', x_axis='time')\n",
    "plt.colorbar(format='%+2.0f dB')\n",
    "plt.title('Test MFCC')\n",
    "plt.tight_layout()"
   ]
  },
  {
   "cell_type": "markdown",
   "metadata": {},
   "source": [
    "### BiLSTM Model"
   ]
  },
  {
   "cell_type": "code",
   "execution_count": 34,
   "metadata": {},
   "outputs": [],
   "source": [
    "num_classes = len(dict_genres)\n",
    "n_features = X_train.shape[2]\n",
    "n_time = X_train.shape[1]"
   ]
  },
  {
   "cell_type": "code",
   "execution_count": 35,
   "metadata": {},
   "outputs": [
    {
     "name": "stdout",
     "output_type": "stream",
     "text": [
      "LSTM_COUNT_2 =  48\n",
      "EPOCH_COUNT =  15\n"
     ]
    }
   ],
   "source": [
    "# MKC: Convert to BiLSTM model\n",
    "from keras.layers import Bidirectional\n",
    "#from keras.layers import RecurrentDropout\n",
    "N_LAYERS = 3\n",
    "FILTER_LENGTH = 5\n",
    "CONV_FILTER_COUNT = 56\n",
    "BATCH_SIZE = 32\n",
    "LSTM_COUNT = 96\n",
    "#MKC\n",
    "#LSTM_COUNT_2 = LSTM_COUNT / 2\n",
    "LSTM_COUNT_2 = 48\n",
    "\n",
    "print(\"LSTM_COUNT_2 = \", LSTM_COUNT_2)\n",
    "EPOCH_COUNT = 70\n",
    "EPOCH_COUNT = 15\n",
    "print(\"EPOCH_COUNT = \", EPOCH_COUNT)\n",
    "NUM_HIDDEN = 64\n",
    "L2_regularization = 0.001\n",
    "\n",
    "def conv_recurrent_model_build(model_input):\n",
    "    print('Building model...')\n",
    "    layer = model_input\n",
    "    \n",
    "    ### 3 1D Convolution Layers\n",
    "    for i in range(N_LAYERS):\n",
    "        # give name to the layers\n",
    "        layer = Conv1D(\n",
    "                filters=CONV_FILTER_COUNT,\n",
    "                kernel_size=FILTER_LENGTH,\n",
    "                kernel_regularizer=regularizers.l2(L2_regularization),  # Tried 0.001\n",
    "                name='convolution_' + str(i + 1)\n",
    "            )(layer)\n",
    "        layer = BatchNormalization(momentum=0.9)(layer)\n",
    "        layer = Activation('relu')(layer)\n",
    "        layer = MaxPooling1D(2)(layer)\n",
    "        layer = Dropout(0.4)(layer)\n",
    "    \n",
    "    # MKC: Iter 1: Make first layer bi-directional\n",
    "    \"\"\"\n",
    "    ## LSTM Layer\n",
    "    # MKC: Original\n",
    "    #layer = LSTM(LSTM_COUNT, return_sequences=False)(layer)\n",
    "    layer = Bidirectional(LSTM(LSTM_COUNT, return_sequences=False))(layer)\n",
    "    layer = Dropout(0.4)(layer)\n",
    "Epoch 00069: val_accuracy improved from 0.53250 to 0.54250, saving model to ./models/bilstm/weights.best.h5\n",
    "Epoch 70/70\n",
    "6394/6394 [==============================] - 72s 11ms/step - loss: 0.9016 - accuracy: 0.7287 - val_loss: 1.8007 - val_accuracy: 0.5138\n",
    "\n",
    "Epoch 00070: val_accuracy did not improve from 0.54250\n",
    "accuracy: 0.51375 (Improved from 0.50625)\n",
    "Load file: accuracy: 0.41625 (dropped from 0.44125)\n",
    "\n",
    "    \"\"\"\n",
    "\n",
    "    # MKC: Iter 2 : Adjust first layer. Add second layer\n",
    "    layer = Bidirectional(LSTM(LSTM_COUNT, dropout=0.05, recurrent_dropout=0.35, return_sequences=True))(layer)\n",
    "    #layer = Dropout(0.05)(layer)\n",
    "    #layer = Recurrent_Dropout(0.35)(layer)\n",
    "\n",
    "    layer = Bidirectional(LSTM(LSTM_COUNT_2, dropout=0.05, recurrent_dropout=0.35, return_sequences=False))(layer)\n",
    "    #layer = Dropout(0.05)(layer)\n",
    "    #layer = Recurrent_Dropout(0.35)(layer)\n",
    "    \"\"\"\n",
    "    Epoch 00069: val_accuracy did not improve from 0.51125\n",
    "Epoch 70/70\n",
    "6394/6394 [==============================] - 169s 26ms/step - loss: 0.9305 - accuracy: 0.7169 - val_loss: 1.7447 - val_accuracy: 0.5013\n",
    "\n",
    "Epoch 00070: val_accuracy did not improve from 0.51125\n",
    "Load file: accuracy: 0.4275 (dropped from 0.44125)\n",
    "    \"\"\"\n",
    "\n",
    "    ## Dense Layer\n",
    "    layer = Dense(NUM_HIDDEN, kernel_regularizer=regularizers.l2(L2_regularization), name='dense1')(layer)\n",
    "    layer = Dropout(0.4)(layer)\n",
    "    \n",
    "    ## Softmax Output\n",
    "    layer = Dense(num_classes)(layer)\n",
    "    layer = Activation('softmax', name='output_realtime')(layer)\n",
    "    model_output = layer\n",
    "    model = Model(model_input, model_output)\n",
    "    \n",
    "    \n",
    "    opt = Adam(lr=0.001)\n",
    "    model.compile(\n",
    "            loss='categorical_crossentropy',\n",
    "            optimizer=opt,\n",
    "            metrics=['accuracy']\n",
    "        )\n",
    "    \n",
    "    print(model.summary())\n",
    "    return model"
   ]
  },
  {
   "cell_type": "code",
   "execution_count": 36,
   "metadata": {},
   "outputs": [],
   "source": [
    "def train_model(x_train, y_train, x_val, y_val, notrain=False):\n",
    "    \n",
    "    n_features = x_train.shape[2]\n",
    "    #input_shape = (None, n_features)\n",
    "    input_shape = (X_train.shape[1], X_train.shape[2])\n",
    "    model_input = Input(input_shape, name='input')\n",
    "    \n",
    "    model = conv_recurrent_model_build(model_input)\n",
    "    \n",
    "#     tb_callback = TensorBoard(log_dir='./logs/4', histogram_freq=1, batch_size=32, write_graph=True, write_grads=False,\n",
    "#                               write_images=False, embeddings_freq=0, embeddings_layer_names=None,\n",
    "#                               embeddings_metadata=None)\n",
    "    checkpoint_callback = ModelCheckpoint('./models/bilstmmfccRev4model/weights.best.h5', monitor='val_accuracy', verbose=1,\n",
    "                                          save_best_only=True, mode='max')\n",
    "\n",
    "    # MKC: Original line was:\n",
    "    #           monitor='val_acc', factor=0.5, patience=10, min_delta=0.01,\n",
    "    # Changed val_acc to val_accuracy to get rid of this warning:\n",
    "    3#C:\\anaconda3\\lib\\site-packages\\keras\\callbacks\\callbacks.py:707: RuntimeWarning: Can save best model only with val_acc available, skipping.\n",
    "    #'skipping.' % (self.monitor), RuntimeWarning)\n",
    "    #C:\\anaconda3\\lib\\site-packages\\keras\\callbacks\\callbacks.py:1042: RuntimeWarning: Reduce LR on plateau conditioned on metric `val_acc` which is not available. Available metrics are: val_loss,val_accuracy,loss,accuracy,lr\n",
    "    #(self.monitor, ','.join(list(logs.keys()))), RuntimeWarning\n",
    "    reducelr_callback = ReduceLROnPlateau(\n",
    "                monitor='val_accuracy', factor=0.5, patience=10, min_delta=0.01,\n",
    "                verbose=1\n",
    "            )\n",
    "    callbacks_list = [checkpoint_callback, reducelr_callback]\n",
    "\n",
    "    if notrain is True:\n",
    "        print(\"No training this time!\")\n",
    "        return None, None\n",
    "    \n",
    "    # Fit the model and get training history.\n",
    "    print('Training...')\n",
    "    history = model.fit(x_train, y_train, batch_size=BATCH_SIZE, epochs=EPOCH_COUNT,\n",
    "                        validation_data=(x_val, y_val), verbose=1, callbacks=callbacks_list)\n",
    "\n",
    "    return model, history\n"
   ]
  },
  {
   "cell_type": "code",
   "execution_count": 37,
   "metadata": {},
   "outputs": [
    {
     "name": "stdout",
     "output_type": "stream",
     "text": [
      "Compiling ...\n",
      "Building model...\n",
      "Model: \"model_4\"\n",
      "_________________________________________________________________\n",
      "Layer (type)                 Output Shape              Param #   \n",
      "=================================================================\n",
      "input (InputLayer)           (None, 646, 13)           0         \n",
      "_________________________________________________________________\n",
      "convolution_1 (Conv1D)       (None, 642, 56)           3696      \n",
      "_________________________________________________________________\n",
      "batch_normalization_10 (Batc (None, 642, 56)           224       \n",
      "_________________________________________________________________\n",
      "activation_10 (Activation)   (None, 642, 56)           0         \n",
      "_________________________________________________________________\n",
      "max_pooling1d_10 (MaxPooling (None, 321, 56)           0         \n",
      "_________________________________________________________________\n",
      "dropout_13 (Dropout)         (None, 321, 56)           0         \n",
      "_________________________________________________________________\n",
      "convolution_2 (Conv1D)       (None, 317, 56)           15736     \n",
      "_________________________________________________________________\n",
      "batch_normalization_11 (Batc (None, 317, 56)           224       \n",
      "_________________________________________________________________\n",
      "activation_11 (Activation)   (None, 317, 56)           0         \n",
      "_________________________________________________________________\n",
      "max_pooling1d_11 (MaxPooling (None, 158, 56)           0         \n",
      "_________________________________________________________________\n",
      "dropout_14 (Dropout)         (None, 158, 56)           0         \n",
      "_________________________________________________________________\n",
      "convolution_3 (Conv1D)       (None, 154, 56)           15736     \n",
      "_________________________________________________________________\n",
      "batch_normalization_12 (Batc (None, 154, 56)           224       \n",
      "_________________________________________________________________\n",
      "activation_12 (Activation)   (None, 154, 56)           0         \n",
      "_________________________________________________________________\n",
      "max_pooling1d_12 (MaxPooling (None, 77, 56)            0         \n",
      "_________________________________________________________________\n",
      "dropout_15 (Dropout)         (None, 77, 56)            0         \n",
      "_________________________________________________________________\n",
      "bidirectional_7 (Bidirection (None, 77, 192)           117504    \n",
      "_________________________________________________________________\n",
      "bidirectional_8 (Bidirection (None, 96)                92544     \n",
      "_________________________________________________________________\n",
      "dense1 (Dense)               (None, 64)                6208      \n",
      "_________________________________________________________________\n",
      "dropout_16 (Dropout)         (None, 64)                0         \n",
      "_________________________________________________________________\n",
      "dense_4 (Dense)              (None, 5)                 325       \n",
      "_________________________________________________________________\n",
      "output_realtime (Activation) (None, 5)                 0         \n",
      "=================================================================\n",
      "Total params: 252,421\n",
      "Trainable params: 252,085\n",
      "Non-trainable params: 336\n",
      "_________________________________________________________________\n",
      "None\n",
      "No training this time!\n"
     ]
    }
   ],
   "source": [
    "print(\"Compiling ...\")\n",
    "junk1, junk2  = train_model(X_train, y_train, X_valid, y_valid, notrain=True)"
   ]
  },
  {
   "cell_type": "code",
   "execution_count": 38,
   "metadata": {},
   "outputs": [],
   "source": [
    "def show_summary_stats(history):\n",
    "    # List all data in history\n",
    "    print(history.history.keys())\n",
    "\n",
    "    # Summarize history for accuracy\n",
    "    # MKC: Changed acc to accuracy\n",
    "    #plt.plot(history.history['acc'])\n",
    "    plt.plot(history.history['accuracy'])\n",
    "    # MKC: Changed val_acc to val_accuracy\n",
    "    #plt.plot(history.history['val_acc'])\n",
    "    plt.plot(history.history['val_accuracy'])\n",
    "    plt.title('model accuracy')\n",
    "    plt.ylabel('accuracy')\n",
    "    plt.xlabel('epoch')\n",
    "    plt.legend(['train', 'test'], loc='upper left')\n",
    "    plt.show()\n",
    "\n",
    "    # Summarize history for loss\n",
    "    plt.plot(history.history['loss'])\n",
    "    plt.plot(history.history['val_loss'])\n",
    "    plt.title('model loss')\n",
    "    plt.ylabel('loss')\n",
    "    plt.xlabel('epoch')\n",
    "    plt.legend(['train', 'test'], loc='upper left')\n",
    "    plt.show()"
   ]
  },
  {
   "cell_type": "code",
   "execution_count": 39,
   "metadata": {},
   "outputs": [
    {
     "name": "stdout",
     "output_type": "stream",
     "text": [
      "Building model...\n",
      "Model: \"model_5\"\n",
      "_________________________________________________________________\n",
      "Layer (type)                 Output Shape              Param #   \n",
      "=================================================================\n",
      "input (InputLayer)           (None, 646, 13)           0         \n",
      "_________________________________________________________________\n",
      "convolution_1 (Conv1D)       (None, 642, 56)           3696      \n",
      "_________________________________________________________________\n",
      "batch_normalization_13 (Batc (None, 642, 56)           224       \n",
      "_________________________________________________________________\n",
      "activation_13 (Activation)   (None, 642, 56)           0         \n",
      "_________________________________________________________________\n",
      "max_pooling1d_13 (MaxPooling (None, 321, 56)           0         \n",
      "_________________________________________________________________\n",
      "dropout_17 (Dropout)         (None, 321, 56)           0         \n",
      "_________________________________________________________________\n",
      "convolution_2 (Conv1D)       (None, 317, 56)           15736     \n",
      "_________________________________________________________________\n",
      "batch_normalization_14 (Batc (None, 317, 56)           224       \n",
      "_________________________________________________________________\n",
      "activation_14 (Activation)   (None, 317, 56)           0         \n",
      "_________________________________________________________________\n",
      "max_pooling1d_14 (MaxPooling (None, 158, 56)           0         \n",
      "_________________________________________________________________\n",
      "dropout_18 (Dropout)         (None, 158, 56)           0         \n",
      "_________________________________________________________________\n",
      "convolution_3 (Conv1D)       (None, 154, 56)           15736     \n",
      "_________________________________________________________________\n",
      "batch_normalization_15 (Batc (None, 154, 56)           224       \n",
      "_________________________________________________________________\n",
      "activation_15 (Activation)   (None, 154, 56)           0         \n",
      "_________________________________________________________________\n",
      "max_pooling1d_15 (MaxPooling (None, 77, 56)            0         \n",
      "_________________________________________________________________\n",
      "dropout_19 (Dropout)         (None, 77, 56)            0         \n",
      "_________________________________________________________________\n",
      "bidirectional_9 (Bidirection (None, 77, 192)           117504    \n",
      "_________________________________________________________________\n",
      "bidirectional_10 (Bidirectio (None, 96)                92544     \n",
      "_________________________________________________________________\n",
      "dense1 (Dense)               (None, 64)                6208      \n",
      "_________________________________________________________________\n",
      "dropout_20 (Dropout)         (None, 64)                0         \n",
      "_________________________________________________________________\n",
      "dense_5 (Dense)              (None, 5)                 325       \n",
      "_________________________________________________________________\n",
      "output_realtime (Activation) (None, 5)                 0         \n",
      "=================================================================\n",
      "Total params: 252,421\n",
      "Trainable params: 252,085\n",
      "Non-trainable params: 336\n",
      "_________________________________________________________________\n",
      "None\n",
      "Training...\n",
      "Train on 4195 samples, validate on 1405 samples\n",
      "Epoch 1/15\n",
      "4195/4195 [==============================] - 118s 28ms/step - loss: 0.5900 - accuracy: 0.8627 - val_loss: 1.1114 - val_accuracy: 0.8036\n",
      "\n",
      "Epoch 00001: val_accuracy improved from -inf to 0.80356, saving model to ./models/bilstmmfccRev4model/weights.best.h5\n",
      "Epoch 2/15\n",
      "4195/4195 [==============================] - 115s 27ms/step - loss: 0.2973 - accuracy: 0.9688 - val_loss: 0.9388 - val_accuracy: 0.7893\n",
      "\n",
      "Epoch 00002: val_accuracy did not improve from 0.80356\n",
      "Epoch 3/15\n",
      "4195/4195 [==============================] - 116s 28ms/step - loss: 0.2464 - accuracy: 0.9812 - val_loss: 0.4104 - val_accuracy: 0.9367\n",
      "\n",
      "Epoch 00003: val_accuracy improved from 0.80356 to 0.93665, saving model to ./models/bilstmmfccRev4model/weights.best.h5\n",
      "Epoch 4/15\n",
      "4195/4195 [==============================] - 115s 27ms/step - loss: 0.2627 - accuracy: 0.9757 - val_loss: 0.6682 - val_accuracy: 0.7865\n",
      "\n",
      "Epoch 00004: val_accuracy did not improve from 0.93665\n",
      "Epoch 5/15\n",
      "4195/4195 [==============================] - 116s 28ms/step - loss: 0.2437 - accuracy: 0.9759 - val_loss: 0.1919 - val_accuracy: 0.9879\n",
      "\n",
      "Epoch 00005: val_accuracy improved from 0.93665 to 0.98790, saving model to ./models/bilstmmfccRev4model/weights.best.h5\n",
      "Epoch 6/15\n",
      "4195/4195 [==============================] - 115s 27ms/step - loss: 0.1789 - accuracy: 0.9919 - val_loss: 0.1630 - val_accuracy: 0.9943\n",
      "\n",
      "Epoch 00006: val_accuracy improved from 0.98790 to 0.99431, saving model to ./models/bilstmmfccRev4model/weights.best.h5\n",
      "Epoch 7/15\n",
      "4195/4195 [==============================] - 115s 27ms/step - loss: 0.2025 - accuracy: 0.9812 - val_loss: 0.2744 - val_accuracy: 0.9708\n",
      "\n",
      "Epoch 00007: val_accuracy did not improve from 0.99431\n",
      "Epoch 8/15\n",
      "4195/4195 [==============================] - 114s 27ms/step - loss: 0.1948 - accuracy: 0.9824 - val_loss: 0.1573 - val_accuracy: 0.9915\n",
      "\n",
      "Epoch 00008: val_accuracy did not improve from 0.99431\n",
      "Epoch 9/15\n",
      "4195/4195 [==============================] - 114s 27ms/step - loss: 0.1933 - accuracy: 0.9831 - val_loss: 0.2373 - val_accuracy: 0.9694\n",
      "\n",
      "Epoch 00009: val_accuracy did not improve from 0.99431\n",
      "Epoch 10/15\n",
      "4195/4195 [==============================] - 115s 27ms/step - loss: 0.1910 - accuracy: 0.9840 - val_loss: 0.1767 - val_accuracy: 0.9851\n",
      "\n",
      "Epoch 00010: val_accuracy did not improve from 0.99431\n",
      "Epoch 11/15\n",
      "4195/4195 [==============================] - 115s 27ms/step - loss: 0.1471 - accuracy: 0.9943 - val_loss: 0.1378 - val_accuracy: 0.9929\n",
      "\n",
      "Epoch 00011: val_accuracy did not improve from 0.99431\n",
      "Epoch 12/15\n",
      "4195/4195 [==============================] - 115s 27ms/step - loss: 0.1551 - accuracy: 0.9897 - val_loss: 0.1374 - val_accuracy: 0.9936\n",
      "\n",
      "Epoch 00012: val_accuracy did not improve from 0.99431\n",
      "Epoch 13/15\n",
      "4195/4195 [==============================] - 114s 27ms/step - loss: 0.1590 - accuracy: 0.9878 - val_loss: 0.4321 - val_accuracy: 0.9046\n",
      "\n",
      "Epoch 00013: val_accuracy did not improve from 0.99431\n",
      "Epoch 14/15\n",
      "4195/4195 [==============================] - 116s 28ms/step - loss: 0.1369 - accuracy: 0.9938 - val_loss: 0.1155 - val_accuracy: 0.9964\n",
      "\n",
      "Epoch 00014: val_accuracy improved from 0.99431 to 0.99644, saving model to ./models/bilstmmfccRev4model/weights.best.h5\n",
      "Epoch 15/15\n",
      "4195/4195 [==============================] - 116s 28ms/step - loss: 0.1211 - accuracy: 0.9940 - val_loss: 0.1253 - val_accuracy: 0.9929\n",
      "\n",
      "Epoch 00015: val_accuracy did not improve from 0.99644\n",
      "\n",
      "Epoch 00015: ReduceLROnPlateau reducing learning rate to 0.0005000000237487257.\n",
      "DONE in 1.73e+03 sec\n",
      "\n"
     ]
    }
   ],
   "source": [
    "t0 = time.time()\n",
    "\n",
    "model, history  = train_model(X_train, y_train, X_valid, y_valid)\n",
    "\n",
    "print(\"DONE in {:0.3} sec\\n\".format(time.time() - t0))\n"
   ]
  },
  {
   "cell_type": "code",
   "execution_count": 40,
   "metadata": {},
   "outputs": [
    {
     "name": "stdout",
     "output_type": "stream",
     "text": [
      "dict_keys(['val_loss', 'val_accuracy', 'loss', 'accuracy', 'lr'])\n"
     ]
    },
    {
     "data": {
      "image/png": "[encoded data removed]",
      "text/plain": [
       "<Figure size 432x288 with 1 Axes>"
      ]
     },
     "metadata": {
      "needs_background": "light"
     },
     "output_type": "display_data"
    },
    {
     "data": {
      "image/png": "[encoded data removed]",
      "text/plain": [
       "<Figure size 432x288 with 1 Axes>"
      ]
     },
     "metadata": {
      "needs_background": "light"
     },
     "output_type": "display_data"
    }
   ],
   "source": [
    "show_summary_stats(history)"
   ]
  },
  {
   "cell_type": "code",
   "execution_count": 41,
   "metadata": {},
   "outputs": [
    {
     "name": "stdout",
     "output_type": "stream",
     "text": [
      "(1405,) (1405,)\n",
      "                       precision    recall  f1-score   support\n",
      "\n",
      "           AbdulBasit       1.00      1.00      1.00       281\n",
      "AbdurrahmaanAs-Sudais       0.97      1.00      0.98       281\n",
      "                Ajami       1.00      1.00      1.00       281\n",
      "              Alafasy       1.00      1.00      1.00       281\n",
      "           FaresAbbad       1.00      0.97      0.98       281\n",
      "\n",
      "             accuracy                           0.99      1405\n",
      "            macro avg       0.99      0.99      0.99      1405\n",
      "         weighted avg       0.99      0.99      0.99      1405\n",
      "\n"
     ]
    }
   ],
   "source": [
    "from sklearn.metrics import classification_report\n",
    "\n",
    "y_true = np.argmax(y_valid, axis = 1)\n",
    "y_pred = model.predict(X_valid)\n",
    "y_pred = np.argmax(y_pred, axis=1)\n",
    "labels = [i for i in range(0, len(dict_genres))]\n",
    "target_names = dict_genres.keys()\n",
    "\n",
    "print(y_true.shape, y_pred.shape)\n",
    "print(classification_report(y_true, y_pred, target_names=target_names))"
   ]
  },
  {
   "cell_type": "code",
   "execution_count": 42,
   "metadata": {
    "scrolled": true
   },
   "outputs": [
    {
     "name": "stdout",
     "output_type": "stream",
     "text": [
      "0.9928825622775801\n"
     ]
    }
   ],
   "source": [
    "from sklearn.metrics import accuracy_score\n",
    "\n",
    "print(accuracy_score(y_true, y_pred))"
   ]
  },
  {
   "cell_type": "markdown",
   "metadata": {},
   "source": [
    "### Connect to Test Set"
   ]
  },
  {
   "cell_type": "code",
   "execution_count": 43,
   "metadata": {},
   "outputs": [],
   "source": [
    "from keras.models import load_model\n",
    "\n",
    "weights_path = 'models/bilstmmfccRev4model/weights.best.h5'\n",
    "model = load_model(weights_path)"
   ]
  },
  {
   "cell_type": "code",
   "execution_count": 44,
   "metadata": {},
   "outputs": [
    {
     "name": "stdout",
     "output_type": "stream",
     "text": [
      "['arr_0', 'arr_1']\n",
      "(1405, 646, 13) (1405, 5)\n"
     ]
    }
   ],
   "source": [
    "npzfile = np.load(os.path.join(data_dir, 'test_arr.npz'))\n",
    "print(npzfile.files)\n",
    "X_test = npzfile['arr_0']\n",
    "y_test = npzfile['arr_1']\n",
    "print(X_test.shape, y_test.shape)"
   ]
  },
  {
   "cell_type": "code",
   "execution_count": 45,
   "metadata": {},
   "outputs": [
    {
     "name": "stdout",
     "output_type": "stream",
     "text": [
      "-1.0 0.0 -0.8\n"
     ]
    }
   ],
   "source": [
    "y_test -= 1\n",
    "print(np.amin(y_test), np.amax(y_test), np.mean(y_test))"
   ]
  },
  {
   "cell_type": "code",
   "execution_count": 46,
   "metadata": {},
   "outputs": [
    {
     "name": "stdout",
     "output_type": "stream",
     "text": [
      "0.7943282347242815 1.149893472101954 0.9894906556056086\n"
     ]
    }
   ],
   "source": [
    "X_test_raw = librosa.core.db_to_power(X_test, ref=1.0)\n",
    "print(np.amin(X_test_raw), np.amax(X_test_raw), np.mean(X_test_raw))"
   ]
  },
  {
   "cell_type": "code",
   "execution_count": 47,
   "metadata": {},
   "outputs": [
    {
     "name": "stdout",
     "output_type": "stream",
     "text": [
      "(1405,) (1405,)\n",
      "                       precision    recall  f1-score   support\n",
      "\n",
      "           AbdulBasit       0.00      0.00      0.00       281\n",
      "AbdurrahmaanAs-Sudais       0.33      0.01      0.03       281\n",
      "                Ajami       0.20      0.99      0.33       281\n",
      "              Alafasy       0.00      0.00      0.00       281\n",
      "           FaresAbbad       0.00      0.00      0.00       281\n",
      "\n",
      "             accuracy                           0.20      1405\n",
      "            macro avg       0.11      0.20      0.07      1405\n",
      "         weighted avg       0.11      0.20      0.07      1405\n",
      "\n"
     ]
    },
    {
     "name": "stderr",
     "output_type": "stream",
     "text": [
      "C:\\anaconda3\\lib\\site-packages\\sklearn\\metrics\\_classification.py:1221: UndefinedMetricWarning: Precision and F-score are ill-defined and being set to 0.0 in labels with no predicted samples. Use `zero_division` parameter to control this behavior.\n",
      "  _warn_prf(average, modifier, msg_start, len(result))\n"
     ]
    }
   ],
   "source": [
    "X_test = np.log(X_test_raw)\n",
    "\n",
    "\n",
    "from sklearn.metrics import classification_report\n",
    "\n",
    "y_true = y_test\n",
    "y_true = np.argmax(y_valid, axis = 1)\n",
    "y_pred = model.predict(X_test)\n",
    "y_pred = np.argmax(y_pred, axis=1)\n",
    "labels = [i for i in range(0, len(dict_genres))]\n",
    "target_names = dict_genres.keys()\n",
    "\n",
    "print(y_true.shape, y_pred.shape)\n",
    "print(classification_report(y_true, y_pred, target_names=target_names))"
   ]
  },
  {
   "cell_type": "code",
   "execution_count": 48,
   "metadata": {},
   "outputs": [
    {
     "ename": "ValueError",
     "evalue": "Error when checking target: expected output_realtime to have 2 dimensions, but got array with shape (1405, 5, 5)",
     "output_type": "error",
     "traceback": [
      "\u001b[1;31m---------------------------------------------------------------------------\u001b[0m",
      "\u001b[1;31mValueError\u001b[0m                                Traceback (most recent call last)",
      "\u001b[1;32m<ipython-input-48-4a0bd9fd0f94>\u001b[0m in \u001b[0;36m<module>\u001b[1;34m\u001b[0m\n\u001b[0;32m      1\u001b[0m \u001b[0my_test\u001b[0m \u001b[1;33m=\u001b[0m \u001b[0mkeras\u001b[0m\u001b[1;33m.\u001b[0m\u001b[0mutils\u001b[0m\u001b[1;33m.\u001b[0m\u001b[0mto_categorical\u001b[0m\u001b[1;33m(\u001b[0m\u001b[0my_test\u001b[0m\u001b[1;33m,\u001b[0m \u001b[0mnum_classes\u001b[0m\u001b[1;33m=\u001b[0m\u001b[0mlen\u001b[0m\u001b[1;33m(\u001b[0m\u001b[0mdict_genres\u001b[0m\u001b[1;33m)\u001b[0m\u001b[1;33m)\u001b[0m\u001b[1;33m\u001b[0m\u001b[1;33m\u001b[0m\u001b[0m\n\u001b[1;32m----> 2\u001b[1;33m \u001b[0mmodel\u001b[0m\u001b[1;33m.\u001b[0m\u001b[0mevaluate\u001b[0m\u001b[1;33m(\u001b[0m\u001b[0mX_test\u001b[0m\u001b[1;33m,\u001b[0m \u001b[0my_test\u001b[0m\u001b[1;33m)\u001b[0m\u001b[1;33m\u001b[0m\u001b[1;33m\u001b[0m\u001b[0m\n\u001b[0m",
      "\u001b[1;32mC:\\anaconda3\\lib\\site-packages\\keras\\engine\\training.py\u001b[0m in \u001b[0;36mevaluate\u001b[1;34m(self, x, y, batch_size, verbose, sample_weight, steps, callbacks, max_queue_size, workers, use_multiprocessing)\u001b[0m\n\u001b[0;32m   1347\u001b[0m             \u001b[0mx\u001b[0m\u001b[1;33m,\u001b[0m \u001b[0my\u001b[0m\u001b[1;33m,\u001b[0m\u001b[1;33m\u001b[0m\u001b[1;33m\u001b[0m\u001b[0m\n\u001b[0;32m   1348\u001b[0m             \u001b[0msample_weight\u001b[0m\u001b[1;33m=\u001b[0m\u001b[0msample_weight\u001b[0m\u001b[1;33m,\u001b[0m\u001b[1;33m\u001b[0m\u001b[1;33m\u001b[0m\u001b[0m\n\u001b[1;32m-> 1349\u001b[1;33m             batch_size=batch_size)\n\u001b[0m\u001b[0;32m   1350\u001b[0m         \u001b[1;31m# Prepare inputs, delegate logic to `test_loop`.\u001b[0m\u001b[1;33m\u001b[0m\u001b[1;33m\u001b[0m\u001b[1;33m\u001b[0m\u001b[0m\n\u001b[0;32m   1351\u001b[0m         \u001b[1;32mif\u001b[0m \u001b[0mself\u001b[0m\u001b[1;33m.\u001b[0m\u001b[0m_uses_dynamic_learning_phase\u001b[0m\u001b[1;33m(\u001b[0m\u001b[1;33m)\u001b[0m\u001b[1;33m:\u001b[0m\u001b[1;33m\u001b[0m\u001b[1;33m\u001b[0m\u001b[0m\n",
      "\u001b[1;32mC:\\anaconda3\\lib\\site-packages\\keras\\engine\\training.py\u001b[0m in \u001b[0;36m_standardize_user_data\u001b[1;34m(self, x, y, sample_weight, class_weight, check_array_lengths, batch_size)\u001b[0m\n\u001b[0;32m    619\u001b[0m                 \u001b[0mfeed_output_shapes\u001b[0m\u001b[1;33m,\u001b[0m\u001b[1;33m\u001b[0m\u001b[1;33m\u001b[0m\u001b[0m\n\u001b[0;32m    620\u001b[0m                 \u001b[0mcheck_batch_axis\u001b[0m\u001b[1;33m=\u001b[0m\u001b[1;32mFalse\u001b[0m\u001b[1;33m,\u001b[0m  \u001b[1;31m# Don't enforce the batch size.\u001b[0m\u001b[1;33m\u001b[0m\u001b[1;33m\u001b[0m\u001b[0m\n\u001b[1;32m--> 621\u001b[1;33m                 exception_prefix='target')\n\u001b[0m\u001b[0;32m    622\u001b[0m \u001b[1;33m\u001b[0m\u001b[0m\n\u001b[0;32m    623\u001b[0m             \u001b[1;31m# Generate sample-wise weight values given the `sample_weight` and\u001b[0m\u001b[1;33m\u001b[0m\u001b[1;33m\u001b[0m\u001b[1;33m\u001b[0m\u001b[0m\n",
      "\u001b[1;32mC:\\anaconda3\\lib\\site-packages\\keras\\engine\\training_utils.py\u001b[0m in \u001b[0;36mstandardize_input_data\u001b[1;34m(data, names, shapes, check_batch_axis, exception_prefix)\u001b[0m\n\u001b[0;32m    133\u001b[0m                         \u001b[1;34m': expected '\u001b[0m \u001b[1;33m+\u001b[0m \u001b[0mnames\u001b[0m\u001b[1;33m[\u001b[0m\u001b[0mi\u001b[0m\u001b[1;33m]\u001b[0m \u001b[1;33m+\u001b[0m \u001b[1;34m' to have '\u001b[0m \u001b[1;33m+\u001b[0m\u001b[1;33m\u001b[0m\u001b[1;33m\u001b[0m\u001b[0m\n\u001b[0;32m    134\u001b[0m                         \u001b[0mstr\u001b[0m\u001b[1;33m(\u001b[0m\u001b[0mlen\u001b[0m\u001b[1;33m(\u001b[0m\u001b[0mshape\u001b[0m\u001b[1;33m)\u001b[0m\u001b[1;33m)\u001b[0m \u001b[1;33m+\u001b[0m \u001b[1;34m' dimensions, but got array '\u001b[0m\u001b[1;33m\u001b[0m\u001b[1;33m\u001b[0m\u001b[0m\n\u001b[1;32m--> 135\u001b[1;33m                         'with shape ' + str(data_shape))\n\u001b[0m\u001b[0;32m    136\u001b[0m                 \u001b[1;32mif\u001b[0m \u001b[1;32mnot\u001b[0m \u001b[0mcheck_batch_axis\u001b[0m\u001b[1;33m:\u001b[0m\u001b[1;33m\u001b[0m\u001b[1;33m\u001b[0m\u001b[0m\n\u001b[0;32m    137\u001b[0m                     \u001b[0mdata_shape\u001b[0m \u001b[1;33m=\u001b[0m \u001b[0mdata_shape\u001b[0m\u001b[1;33m[\u001b[0m\u001b[1;36m1\u001b[0m\u001b[1;33m:\u001b[0m\u001b[1;33m]\u001b[0m\u001b[1;33m\u001b[0m\u001b[1;33m\u001b[0m\u001b[0m\n",
      "\u001b[1;31mValueError\u001b[0m: Error when checking target: expected output_realtime to have 2 dimensions, but got array with shape (1405, 5, 5)"
     ]
    }
   ],
   "source": [
    "y_test = keras.utils.to_categorical(y_test, num_classes=len(dict_genres))\n",
    "model.evaluate(X_test, y_test)"
   ]
  },
  {
   "cell_type": "code",
   "execution_count": 49,
   "metadata": {},
   "outputs": [
    {
     "name": "stdout",
     "output_type": "stream",
     "text": [
      "[[  0   3 278   0   0]\n",
      " [  0   4 277   0   0]\n",
      " [  0   3 278   0   0]\n",
      " [  0   2 279   0   0]\n",
      " [  0   0 281   0   0]]\n"
     ]
    }
   ],
   "source": [
    "from sklearn.metrics import confusion_matrix\n",
    "\n",
    "print(confusion_matrix(y_true, y_pred))"
   ]
  },
  {
   "cell_type": "code",
   "execution_count": 50,
   "metadata": {},
   "outputs": [
    {
     "name": "stdout",
     "output_type": "stream",
     "text": [
      "0.200711743772242\n"
     ]
    }
   ],
   "source": [
    "from sklearn.metrics import accuracy_score\n",
    "\n",
    "print(accuracy_score(y_true, y_pred))"
   ]
  },
  {
   "cell_type": "code",
   "execution_count": 51,
   "metadata": {},
   "outputs": [
    {
     "data": {
      "image/png": "[encoded data removed]",
      "text/plain": [
       "<Figure size 432x288 with 1 Axes>"
      ]
     },
     "metadata": {
      "needs_background": "light"
     },
     "output_type": "display_data"
    }
   ],
   "source": [
    "### 8 clusters\n",
    "from sklearn.metrics import confusion_matrix\n",
    "import seaborn as sns\n",
    "\n",
    "\n",
    "mat = confusion_matrix(y_true, y_pred)\n",
    "sns.heatmap(mat.T, square=True, annot=True, fmt='d', cbar=False,\n",
    "            xticklabels=dict_genres.keys(),\n",
    "            yticklabels=dict_genres.keys())\n",
    "plt.xlabel('true label')\n",
    "plt.ylabel('predicted label');\n"
   ]
  },
  {
   "cell_type": "code",
   "execution_count": null,
   "metadata": {},
   "outputs": [],
   "source": []
  }
 ],
 "metadata": {
  "kernelspec": {
   "display_name": "Python 3",
   "language": "python",
   "name": "python3"
  },
  "language_info": {
   "codemirror_mode": {
    "name": "ipython",
    "version": 3
   },
   "file_extension": ".py",
   "mimetype": "text/x-python",
   "name": "python",
   "nbconvert_exporter": "python",
   "pygments_lexer": "ipython3",
   "version": "3.7.6"
  }
 },
 "nbformat": 4,
 "nbformat_minor": 2
}
